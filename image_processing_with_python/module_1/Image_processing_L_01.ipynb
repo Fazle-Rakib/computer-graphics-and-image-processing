{
  "cells": [
    {
      "cell_type": "markdown",
      "metadata": {
        "id": "RfYmOIDroDLd"
      },
      "source": [
        "https://youtu.be/yEXkEUqK52Q"
      ]
    },
    {
      "cell_type": "markdown",
      "metadata": {
        "id": "SyZxTF7lf7jk"
      },
      "source": [
        "**Downloading Kaggle data sets directly into Colab**"
      ]
    },
    {
      "cell_type": "markdown",
      "metadata": {
        "id": "7lvdgeEMgCoy"
      },
      "source": [
        "Install the kaggle python library"
      ]
    },
    {
      "cell_type": "markdown",
      "metadata": {
        "id": "16wfvjhPIyW7"
      },
      "source": [
        "# Kaggle dataset to colab"
      ]
    },
    {
      "cell_type": "code",
      "execution_count": null,
      "metadata": {
        "colab": {
          "base_uri": "https://localhost:8080/"
        },
        "id": "KlwSaX9akGfG",
        "outputId": "30aeaf83-62cf-433f-eb27-1ecf1c152bd4"
      },
      "outputs": [],
      "source": [
        "! pip install kaggle"
      ]
    },
    {
      "cell_type": "markdown",
      "metadata": {
        "id": "rw0DfSAggHED"
      },
      "source": [
        "Mount the Google drive so you can store your kaggle API credentials for future use"
      ]
    },
    {
      "cell_type": "code",
      "execution_count": null,
      "metadata": {
        "colab": {
          "base_uri": "https://localhost:8080/"
        },
        "id": "NGineQt7dErh",
        "outputId": "8181624d-7f2e-47dd-878a-c278eb8a0542"
      },
      "outputs": [],
      "source": [
        "from google.colab import drive\n",
        "drive.mount('/content/drive')"
      ]
    },
    {
      "cell_type": "markdown",
      "metadata": {
        "id": "Rvmi3WbigOmT"
      },
      "source": [
        "Make a directory for kaggle at the temporary instance location on Colab drive.\n",
        "\n",
        "Download your kaggle API key (.json file). You can do this by going to your kaggle account page and clicking 'Create new API token' under the API section."
      ]
    },
    {
      "cell_type": "code",
      "execution_count": null,
      "metadata": {
        "id": "ZTkKggcylXfa"
      },
      "outputs": [],
      "source": [
        "! mkdir ~/.kaggle"
      ]
    },
    {
      "cell_type": "markdown",
      "metadata": {
        "id": "rKv_7jNggXv7"
      },
      "source": [
        "If you want to copy the kaggle API credentials to the temporary location... (I recommend placing it on your Google Drive)"
      ]
    },
    {
      "cell_type": "code",
      "execution_count": null,
      "metadata": {
        "id": "DD56NrWmlb5V"
      },
      "outputs": [],
      "source": [
        "#! cp kaggle.json ~/.kaggle/"
      ]
    },
    {
      "cell_type": "markdown",
      "metadata": {
        "id": "p3N4it0xrFmU"
      },
      "source": [
        "Upload the json file to Google Drive and then copy to the temporary location."
      ]
    },
    {
      "cell_type": "code",
      "execution_count": null,
      "metadata": {
        "id": "IQq6ZMyTrEfO"
      },
      "outputs": [],
      "source": [
        "!cp '/content/drive/MyDrive/Colab Notebooks/kaggle_credentials/kaggle.json' ~/.kaggle/"
      ]
    },
    {
      "cell_type": "markdown",
      "metadata": {
        "id": "p3dHJgtLehrM"
      },
      "source": [
        "Change the file permissions to read/write to the owner only"
      ]
    },
    {
      "cell_type": "code",
      "execution_count": null,
      "metadata": {
        "id": "7ncAtrq2lg5F"
      },
      "outputs": [],
      "source": [
        "! chmod 600 ~/.kaggle/kaggle.json"
      ]
    },
    {
      "cell_type": "markdown",
      "metadata": {
        "id": "Rb3Zm9VMlu3t"
      },
      "source": [
        "**Competitions and Datasets are the two types of Kaggle data**"
      ]
    },
    {
      "cell_type": "markdown",
      "metadata": {},
      "source": [
        "Make a directory for kaggle_data on Colab drive."
      ]
    },
    {
      "cell_type": "code",
      "execution_count": null,
      "metadata": {
        "id": "SJi_kdRP2oNR"
      },
      "outputs": [],
      "source": [
        "! mkdir /content/kaggle_data"
      ]
    },
    {
      "cell_type": "code",
      "execution_count": null,
      "metadata": {
        "colab": {
          "base_uri": "https://localhost:8080/"
        },
        "id": "Ig1vpr8R3x8a",
        "outputId": "77bafc81-0666-4c8e-d78e-6efa2810b34b"
      },
      "outputs": [],
      "source": [
        "%%shell\n",
        "ls /\n",
        "if [ ! -d \"/root/.kaggle/kaggle.json\" ]; then\n",
        "  echo \"$DIRECTORY does not exist.\"\n",
        "fi"
      ]
    },
    {
      "cell_type": "markdown",
      "metadata": {
        "id": "OrdSFfGjl3Ud"
      },
      "source": [
        "**1. Download competition data**\n",
        "\n",
        "If you get 403 Forbidden error, you need to click 'Late Submission' on the Kaggle page for that competition."
      ]
    },
    {
      "cell_type": "code",
      "execution_count": null,
      "metadata": {
        "colab": {
          "base_uri": "https://localhost:8080/"
        },
        "id": "C0yNdtoRln8A",
        "outputId": "43045911-5977-43b8-8555-025c1bf49bc4"
      },
      "outputs": [],
      "source": [
        "# ! kaggle competitions download -p /content/kaggle_data dlsprint2\n",
        "# ! kaggle datasets download -p /content/kaggle_data reasat/BaDLAD_Train"
      ]
    },
    {
      "cell_type": "markdown",
      "metadata": {
        "id": "fRmXZnHghNAz"
      },
      "source": [
        "Unzip, in case the downloaded file is zipped. Refresh the files on the left hand side to update the view."
      ]
    },
    {
      "cell_type": "code",
      "execution_count": null,
      "metadata": {
        "colab": {
          "base_uri": "https://localhost:8080/"
        },
        "id": "DHQFHBmeG25N",
        "outputId": "7c92a8bd-f2e4-41f6-9f58-6e2e9ded0558"
      },
      "outputs": [],
      "source": [
        "! kaggle datasets download -p /content/kaggle_data marquis03/flower-classification"
      ]
    },
    {
      "cell_type": "code",
      "execution_count": null,
      "metadata": {
        "id": "7czvnJ3-H-37"
      },
      "outputs": [],
      "source": [
        "! mkdir /content/kaggle_data/flower-classification"
      ]
    },
    {
      "cell_type": "code",
      "execution_count": null,
      "metadata": {
        "colab": {
          "base_uri": "https://localhost:8080/"
        },
        "id": "dAs9oVnNoziL",
        "outputId": "7f09e194-430a-42c3-ddbd-081e33863907"
      },
      "outputs": [],
      "source": [
        "! unzip /content/kaggle_data/flower-classification.zip -d /content/kaggle_data/flower-classification/"
      ]
    },
    {
      "cell_type": "markdown",
      "metadata": {
        "id": "ePE1ItOFpPYS"
      },
      "source": [
        "To downloaad specific files, instead of the netire data set\n",
        "\n"
      ]
    },
    {
      "cell_type": "code",
      "execution_count": null,
      "metadata": {
        "colab": {
          "base_uri": "https://localhost:8080/"
        },
        "id": "iW0wQcPwpR6V",
        "outputId": "59d47a58-0b26-4955-be92-ed7d3b497d71"
      },
      "outputs": [],
      "source": [
        "! kaggle competitions download digit-recognizer -f train.csv"
      ]
    },
    {
      "cell_type": "markdown",
      "metadata": {
        "id": "GG20lDNIoJR0"
      },
      "source": [
        "**2. Download datasets (that are not part of competition)**"
      ]
    },
    {
      "cell_type": "code",
      "execution_count": null,
      "metadata": {
        "colab": {
          "base_uri": "https://localhost:8080/"
        },
        "id": "j9bZFpaEoU5h",
        "outputId": "e8c408b0-7e08-4aa4-ef1d-5f5ffdb8a105"
      },
      "outputs": [],
      "source": [
        "! kaggle datasets download johnsmith88/heart-disease-dataset"
      ]
    },
    {
      "cell_type": "markdown",
      "metadata": {
        "id": "WEaPSUM5I6EV"
      },
      "source": [
        "# image_io"
      ]
    },
    {
      "cell_type": "code",
      "execution_count": null,
      "metadata": {
        "id": "KcFjqO4BI_3A"
      },
      "outputs": [],
      "source": [
        "from skimage import io"
      ]
    },
    {
      "cell_type": "code",
      "execution_count": null,
      "metadata": {
        "id": "NT4VLeBoJD47"
      },
      "outputs": [],
      "source": [
        "image_1 = io.imread(\"/content/kaggle_data/flower-classification/train/astilbe/10091895024_a2ea04cda6_c.jpg\")"
      ]
    },
    {
      "cell_type": "code",
      "execution_count": null,
      "metadata": {
        "colab": {
          "base_uri": "https://localhost:8080/"
        },
        "id": "l0A5jjkqJaBl",
        "outputId": "1429ada1-ba2a-44b6-80ba-764ce3f8016f"
      },
      "outputs": [],
      "source": [
        "print(image_1)"
      ]
    },
    {
      "cell_type": "markdown",
      "metadata": {
        "id": "vtTlWFOHpa90"
      },
      "source": [
        "# Generating a random image"
      ]
    },
    {
      "cell_type": "code",
      "execution_count": null,
      "metadata": {
        "id": "sxQl6sTDpZwp"
      },
      "outputs": [],
      "source": [
        "# from skimage import io\n",
        "import numpy as np\n",
        "from matplotlib import pyplot as plt"
      ]
    },
    {
      "cell_type": "code",
      "execution_count": null,
      "metadata": {
        "id": "60YefnngqRug"
      },
      "outputs": [],
      "source": [
        "random_image = np.random.random([256, 256])"
      ]
    },
    {
      "cell_type": "code",
      "execution_count": null,
      "metadata": {
        "colab": {
          "base_uri": "https://localhost:8080/"
        },
        "id": "P2sEnR_sqbEW",
        "outputId": "67eb2b9b-d42e-43e4-dc82-6fe3c8171bd3"
      },
      "outputs": [],
      "source": [
        "print(random_image)"
      ]
    },
    {
      "cell_type": "code",
      "execution_count": null,
      "metadata": {
        "colab": {
          "base_uri": "https://localhost:8080/"
        },
        "id": "ZUFKSszsqfWJ",
        "outputId": "ee4548bb-9573-4c20-ee58-2097873a9978"
      },
      "outputs": [],
      "source": [
        "print(np.shape(random_image))"
      ]
    },
    {
      "cell_type": "code",
      "execution_count": null,
      "metadata": {
        "colab": {
          "base_uri": "https://localhost:8080/",
          "height": 452
        },
        "id": "eAHAOmyZqn0K",
        "outputId": "718c3fac-8831-400b-ee37-022b17b1b13b"
      },
      "outputs": [],
      "source": [
        "plt.imshow(random_image)"
      ]
    },
    {
      "cell_type": "markdown",
      "metadata": {
        "id": "SdGrL9oivcX3"
      },
      "source": [
        "## Why a single color value generates a colorful img"
      ]
    },
    {
      "cell_type": "code",
      "execution_count": null,
      "metadata": {
        "cellView": "form",
        "id": "20cgcljtqvfj"
      },
      "outputs": [],
      "source": [
        "# @title grayscale img\n",
        "# @markdown random_image array contains only one intensity value per pixel. When plt.imshow() displays this array, it maps these intensity values to colors based on a colormap. <br><br> By default, plt.imshow() uses a colormap called \"viridis\" which is perceptually uniform in terms of brightness. This colormap maps low intensity values to dark colors (like dark blue) and high intensity values to bright colors (like yellow). This creates the appearance of a colorful image even though the input array contains only single intensity values. <br><br>If you specify the colormap explicitly, like plt.imshow(random_image, cmap='gray'), it will map intensity values directly to shades of gray, giving you a grayscale image. The grayscale colormap assigns shades of gray ranging from black for low intensity values to white for high intensity values, providing a visual representation of the single intensity values in the array.\n",
        "\n",
        "\n",
        "random_image = np.random.random([8, 8])\n",
        "\n",
        "print(np.shape(random_image))\n",
        "print(random_image[0,0])\n",
        "\n",
        "plt.imshow(random_image)\n",
        "# plt.imshow(random_image, cmap='gray')\n",
        "\n",
        "plt.colorbar()"
      ]
    },
    {
      "cell_type": "markdown",
      "metadata": {
        "id": "V6-ZOzfPzgAG"
      },
      "source": [
        "# Updating a image"
      ]
    },
    {
      "cell_type": "code",
      "execution_count": null,
      "metadata": {
        "colab": {
          "base_uri": "https://localhost:8080/",
          "height": 658
        },
        "id": "VzJv0HLDzlnW",
        "outputId": "5a32a125-67c6-43ba-8066-b5a8780d1876"
      },
      "outputs": [],
      "source": [
        "random_image = np.random.random([64, 64, 3])\n",
        "\n",
        "print(\"Before Updateing:\\n\", random_image[8:10,8:10])\n",
        "\n",
        "random_image[8:16,8:16,:] = [1,1,0]\n",
        "\n",
        "print(\"After Updateing:\\n\",random_image[8:10,8:10])\n",
        "\n",
        "plt.imshow(random_image)"
      ]
    }
  ],
  "metadata": {
    "colab": {
      "collapsed_sections": [
        "16wfvjhPIyW7"
      ],
      "provenance": []
    },
    "kernelspec": {
      "display_name": "Python 3",
      "name": "python3"
    },
    "language_info": {
      "name": "python"
    }
  },
  "nbformat": 4,
  "nbformat_minor": 0
}
